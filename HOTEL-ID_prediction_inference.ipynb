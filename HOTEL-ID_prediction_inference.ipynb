{
 "cells": [
  {
   "attachments": {},
   "cell_type": "markdown",
   "metadata": {},
   "source": [
    "# **PREDIZIONE DI HOTEL-ID PER LA PREVENZIONE DEL TRAFFICO DI UMANI (FGVC9 2022) - Notebook di inferenza**\n",
    "\n",
    "**Deep Learning 2022/2023**\n",
    "\n",
    "**Michele Ferro 1000037665**"
   ]
  },
  {
   "cell_type": "markdown",
   "metadata": {},
   "source": [
    "# 1 - Caricamento del set di test e di training"
   ]
  },
  {
   "cell_type": "code",
   "execution_count": 16,
   "metadata": {},
   "outputs": [],
   "source": [
    "import os\n",
    "import albumentations as A\n",
    "import albumentations.pytorch as APT\n",
    "from PIL import Image"
   ]
  },
  {
   "cell_type": "code",
   "execution_count": 17,
   "metadata": {},
   "outputs": [],
   "source": [
    "import pandas as pd\n",
    "import numpy as np"
   ]
  },
  {
   "cell_type": "code",
   "execution_count": 18,
   "metadata": {},
   "outputs": [],
   "source": [
    "dataset_path = os.path.join('/run/media/michele/Archivio/DL_project/hotel-id-to-combat-human-trafficking-2022-fgvc9/')\n",
    "\n",
    "train_path = os.path.join(dataset_path, 'train_images')\n",
    "test_path = os.path.join(dataset_path, 'test_images')\n",
    "val_path = os.path.join(dataset_path, 'val_images')"
   ]
  },
  {
   "cell_type": "code",
   "execution_count": 19,
   "metadata": {},
   "outputs": [],
   "source": [
    "import albumentations as A\n",
    "import albumentations.pytorch as APT\n",
    "\n",
    "IMG_SIZE = 128\n",
    "\n",
    "occlusion_transform = A.CoarseDropout(p=1, max_holes=1, min_height=IMG_SIZE//4, max_height=IMG_SIZE//2,\n",
    "                                      min_width=IMG_SIZE//4, max_width=IMG_SIZE//2, fill_value=(255, 0, 0))\n",
    "\n",
    "# transform used for the obtained training set\n",
    "train_transform = A.Compose([A.HorizontalFlip(p=0.75),\n",
    "                            A.VerticalFlip(p=0.25),\n",
    "                            A.ShiftScaleRotate(p=0.5),\n",
    "                            A.OpticalDistortion(p=0.25),\n",
    "                            A.Perspective(p=0.25),\n",
    "                            A.CoarseDropout(p=0.5, min_holes=1, max_holes=6, \n",
    "                                            min_height=IMG_SIZE//16, max_height=IMG_SIZE//4,\n",
    "                                            min_width=IMG_SIZE//16, max_width=IMG_SIZE//4),\n",
    "                            occlusion_transform,\n",
    "                            A.Resize(IMG_SIZE, IMG_SIZE),\n",
    "                            A.RandomBrightnessContrast(p=0.75),\n",
    "                            A.ToFloat(),\n",
    "                            APT.transforms.ToTensorV2()])\n",
    "\n",
    "# transform used for the validation/test set\n",
    "val_transform = A.Compose([occlusion_transform,\n",
    "                            A.Resize(IMG_SIZE, IMG_SIZE),\n",
    "                            A.ToFloat(),\n",
    "                            APT.transforms.ToTensorV2()])"
   ]
  },
  {
   "cell_type": "code",
   "execution_count": 20,
   "metadata": {},
   "outputs": [],
   "source": [
    "class HotelDataset:\n",
    "    def __init__(self, data, transform=None, data_path=train_path, train_val=True):\n",
    "        self.data = data\n",
    "        self.transform = transform\n",
    "        self.data_path = data_path\n",
    "        self.train_val = train_val\n",
    "\n",
    "    def __len__(self):\n",
    "        return len(self.data)\n",
    "\n",
    "    def __getitem__(self, idx):\n",
    "        record = self.data.iloc[idx]\n",
    "\n",
    "        if self.train_val:\n",
    "            image_path = os.path.join(self.data_path,str(record['hotel_id']),record['image_id'])\n",
    "            label = record['hotel_id']\n",
    "        else:\n",
    "            image_path = os.path.join(self.data_path,record['image_id'])\n",
    "        \n",
    "        image = np.array(Image.open(image_path)).astype(np.uint8)\n",
    "\n",
    "        if self.transform:\n",
    "            transformed = self.transform(image=image)\n",
    "            image = transformed['image']\n",
    "        \n",
    "        if self.train_val:\n",
    "            return image, label\n",
    "        else:\n",
    "            return image"
   ]
  },
  {
   "cell_type": "markdown",
   "metadata": {},
   "source": [
    "# 2 - Definizione del modello"
   ]
  },
  {
   "cell_type": "code",
   "execution_count": 21,
   "metadata": {},
   "outputs": [],
   "source": [
    "import torch\n",
    "import timm\n",
    "from torch import nn\n",
    "from torchvision import transforms\n",
    "from torch.utils.data import DataLoader\n",
    "from sklearn.metrics import accuracy_score\n",
    "from torch.optim import SGD\n",
    "import matplotlib.pyplot as plt\n",
    "import torchvision\n",
    "\n",
    "import numpy as np\n",
    "\n",
    "import pytorch_lightning as pl"
   ]
  },
  {
   "attachments": {},
   "cell_type": "markdown",
   "metadata": {},
   "source": [
    "## 2.1 - HotelPredictionNetwork v1 - Classification"
   ]
  },
  {
   "cell_type": "code",
   "execution_count": 22,
   "metadata": {},
   "outputs": [],
   "source": [
    "class HotelPredictionNetworkv1(pl.LightningModule):\n",
    "    def __init__(self, n_classes, embedding_size, extractor_name='efficientnet_b0', lr=0.01, momentum=0.99):\n",
    "        super(HotelPredictionNetworkv1, self).__init__()\n",
    "        self.save_hyperparameters()\n",
    "\n",
    "        self.extractor = timm.create_model(extractor_name, num_classes=n_classes, pretrained=True)\n",
    "        in_features = self.extractor.get_classifier().in_features\n",
    "\n",
    "        self.extractor.classifier = nn.Identity()\n",
    "\n",
    "        self.embedding = nn.Linear(in_features, embedding_size)\n",
    "        self.classifier = nn.Linear(embedding_size, n_classes)\n",
    "        self.criterion = nn.CrossEntropyLoss()\n",
    "\n",
    "    def forward(self, x):\n",
    "        x = self.extractor(x)\n",
    "        x = x.view(x.shape[0], -1)\n",
    "        x = self.embedding(x)\n",
    "        x = self.classifier(x)\n",
    "\n",
    "        return x\n",
    "\n",
    "    def configure_optimizers(self):\n",
    "        optimizer = SGD(self.parameters(), self.hparams.lr, momentum=self.hparams.momentum)\n",
    "        return optimizer\n",
    "\n",
    "    def training_step(self, train_batch, batch_idx):\n",
    "        x, y = train_batch\n",
    "        output = self.forward(x)\n",
    "        loss = self.criterion(output, y)\n",
    "        self.log('train/loss', loss)\n",
    "        return loss\n",
    "\n",
    "    def validation_step(self, val_batch, batch_idx):\n",
    "        x, y = val_batch\n",
    "        output = self.forward(x)\n",
    "        loss = self.criterion(output, y)\n",
    "\n",
    "        acc = accuracy_score(y.cpu(), output.cpu().topk(1).indices)\n",
    "\n",
    "        self.log('val/loss', loss)\n",
    "\n",
    "        return {\n",
    "            'predictions': output.cpu().topk(1).indices,\n",
    "            'labels': y.cpu()\n",
    "        }\n",
    "\n",
    "    def validation_epoch_end(self, outputs):\n",
    "        predictions = np.concatenate([o['predictions'] for o in outputs])\n",
    "        labels = np.concatenate([o['labels'] for o in outputs])\n",
    "\n",
    "        acc = accuracy_score(labels, predictions)\n",
    "\n",
    "        self.log('val/accuracy', acc)"
   ]
  },
  {
   "attachments": {},
   "cell_type": "markdown",
   "metadata": {},
   "source": [
    "## 2.2 - HotelPredictionNetwork v2 - Metric Learning"
   ]
  },
  {
   "cell_type": "code",
   "execution_count": 23,
   "metadata": {},
   "outputs": [],
   "source": [
    "from torch.nn import functional as F\n",
    "\n",
    "class ContrastiveLoss(torch.nn.Module):\n",
    "    def __init__(self, m=2):\n",
    "        super(ContrastiveLoss, self).__init__()\n",
    "        self.m = m\n",
    "\n",
    "    def forward(self, phi_i, phi_j, l_ij):\n",
    "        l_ij = l_ij.float()\n",
    "        d = F.pairwise_distance(phi_i, phi_j)\n",
    "        l = (0.5 * (1 - l_ij) * torch.pow(d, 2)) + (0.5 * l_ij * torch.pow(torch.clamp(self.m - d, min=0),2))\n",
    "\n",
    "        return l.mean()"
   ]
  },
  {
   "cell_type": "code",
   "execution_count": 24,
   "metadata": {},
   "outputs": [],
   "source": [
    "class HotelPredictionNetworkv2(pl.LightningModule):\n",
    "    def __init__(self, extractor_name='efficientnet_b0', lr=0.01, momentum=0.99, margin=2):\n",
    "        super(HotelPredictionNetworkv2, self).__init__()\n",
    "        self.save_hyperparameters()\n",
    "\n",
    "        self.embedding = timm.create_model(extractor_name, num_classes=1, pretrained=True)\n",
    "        self.embedding.classifier = nn.Identity()\n",
    "\n",
    "        self.criterion = ContrastiveLoss(margin)\n",
    "\n",
    "    def forward(self, x):\n",
    "        return self.embedding(x)\n",
    "\n",
    "    def configure_optimizers(self):\n",
    "        optimizer = SGD(self.embedding.parameters(), self.hparams.lr, momentum=self.hparams.momentum)\n",
    "        return optimizer\n",
    "\n",
    "    def training_step(self, train_batch, batch_idx):\n",
    "        I_i, I_j, l_ij, *_ = train_batch\n",
    "\n",
    "        phi_i = self.embedding(I_i)\n",
    "        phi_j = self.embedding(I_j)\n",
    "\n",
    "        loss = self.criterion(phi_i, phi_j, l_ij)\n",
    "\n",
    "        self.log('train/loss', loss)\n",
    "        return loss\n",
    "\n",
    "    def validation_step(self, val_batch, batch_idx):\n",
    "        I_i, I_j, l_ij, *_ = val_batch\n",
    "\n",
    "        phi_i = self.embedding(I_i)\n",
    "        phi_j = self.embedding(I_j)\n",
    "\n",
    "        loss = self.criterion(phi_i, phi_j, l_ij)\n",
    "\n",
    "        self.log('val/loss', loss)\n",
    "\n",
    "        if batch_idx==0:\n",
    "            self.logger.experiment.add_embedding(phi_i, val_batch[3], I_i, global_step=self.global_step)"
   ]
  },
  {
   "attachments": {},
   "cell_type": "markdown",
   "metadata": {},
   "source": [
    "# 3 - Caricamento dei modelli da checkpoint"
   ]
  },
  {
   "cell_type": "code",
   "execution_count": 25,
   "metadata": {},
   "outputs": [],
   "source": [
    "import pandas as pd\n",
    "\n",
    "df_train = pd.read_csv(os.path.join(dataset_path, 'train.csv'))\n",
    "df_val = pd.read_csv(os.path.join(dataset_path, 'val.csv'))\n",
    "df_test = pd.read_csv(os.path.join(dataset_path, 'test.csv'))"
   ]
  },
  {
   "attachments": {},
   "cell_type": "markdown",
   "metadata": {},
   "source": [
    "## 3.1 - Classificatore `HotelPredictionNetwork`"
   ]
  },
  {
   "attachments": {},
   "cell_type": "markdown",
   "metadata": {},
   "source": [
    "Viene caricato il classificatore addestrato nel notebook di training."
   ]
  },
  {
   "cell_type": "code",
   "execution_count": 12,
   "metadata": {},
   "outputs": [],
   "source": [
    "n_classes_train = df_train['hotel_id'].max()\n",
    "n_classes_val = df_val['hotel_id'].max()\n",
    "\n",
    "n_classes = max(n_classes_train, n_classes_val) + 1\n",
    "\n",
    "model = HotelPredictionNetwork.load_from_checkpoint('classification_logs/siamese_hotel_id/version_1/checkpoints/epoch=4-step=2795.ckpt', n_classes=n_classes, embedding_size=128)"
   ]
  },
  {
   "attachments": {},
   "cell_type": "markdown",
   "metadata": {},
   "source": [
    "## 3.2 - Rete siamese `HotelPredictionNetworkv2`"
   ]
  },
  {
   "attachments": {},
   "cell_type": "markdown",
   "metadata": {},
   "source": [
    "Viene caricata la rete siamese addestrata nel notebook di training."
   ]
  },
  {
   "cell_type": "code",
   "execution_count": 26,
   "metadata": {},
   "outputs": [],
   "source": [
    "siamese_hotel_task = HotelPredictionNetworkv2.load_from_checkpoint('metric_logs/siamese_hotel_id/version_0/checkpoints/epoch=4-step=2795.ckpt', n_classes=1)"
   ]
  },
  {
   "attachments": {},
   "cell_type": "markdown",
   "metadata": {},
   "source": [
    "# 4 - Inferenze"
   ]
  },
  {
   "attachments": {},
   "cell_type": "markdown",
   "metadata": {},
   "source": [
    "## 4.1 Classificazione"
   ]
  },
  {
   "cell_type": "code",
   "execution_count": null,
   "metadata": {},
   "outputs": [],
   "source": [
    "def predict(model, loader):\n",
    "    device = 'cuda' if torch.cuda.is_available() else 'cpu'\n",
    "    model.eval()\n",
    "    model.to(device)\n",
    "    preds = []\n",
    "\n",
    "    for batch in loader:\n",
    "        for im in batch:\n",
    "            x = im.to(device)\n",
    "            x = x.unsqueeze(0)\n",
    "            output = model(x)\n",
    "            output = output.detach().to('cpu').numpy()\n",
    "            _, pred = output.max(dim=1)\n",
    "            preds.append(pred)\n",
    "\n",
    "    return np.concatenate(preds)"
   ]
  },
  {
   "cell_type": "code",
   "execution_count": 52,
   "metadata": {},
   "outputs": [],
   "source": [
    "from PIL import Image\n",
    "\n",
    "def predict_image(model, image):\n",
    "    image = Image.open(image)\n",
    "    device = 'cuda' if torch.cuda.is_available() else 'cpu'\n",
    "    model.eval()\n",
    "    model.to(device)\n",
    "    convert_tensor = transforms.ToTensor()\n",
    "    x = convert_tensor(image)\n",
    "    \n",
    "    x = x.to(device)\n",
    "    x = x.unsqueeze(0)\n",
    "\n",
    "    output = model(x)\n",
    "    _, pred = output.max(dim=1)\n",
    "\n",
    "    print(output.shape)"
   ]
  },
  {
   "cell_type": "code",
   "execution_count": 53,
   "metadata": {},
   "outputs": [
    {
     "name": "stdout",
     "output_type": "stream",
     "text": [
      "torch.Size([1, 128])\n"
     ]
    }
   ],
   "source": [
    "#im = os.path.join(test_path, 'abc.jpg')\n",
    "im = os.path.join('/run/media/michele/Archivio/DL_project/hotel-id-to-combat-human-trafficking-2022-fgvc9/train_images/2093/000023452.jpg')\n",
    "\n",
    "predict_image(model, im)"
   ]
  },
  {
   "attachments": {},
   "cell_type": "markdown",
   "metadata": {},
   "source": [
    "## 4.2 - Estrazione"
   ]
  },
  {
   "cell_type": "code",
   "execution_count": 27,
   "metadata": {},
   "outputs": [],
   "source": [
    "from sklearn.metrics import euclidean_distances\n",
    "from tqdm import tqdm\n",
    "\n",
    "def find_matches(query, base_embeds, base_targets, n_matches=5):\n",
    "    distance_df = pd.DataFrame(index=np.arange(len(base_targets)), data={\"hotel_id\": base_targets})\n",
    "    # calculate euclidean distance of query embeds to all base embeds\n",
    "    distance_df[\"distance\"] = euclidean_distances([query], list(base_embeds))[0]\n",
    "    # sort by distance and hotel_id\n",
    "    distance_df = distance_df.sort_values(by=[\"distance\", \"hotel_id\"], ascending=False).reset_index(drop=True)\n",
    "    # return first 5 different hotel_id codes\n",
    "    return distance_df[\"hotel_id\"].unique()[:n_matches]\n",
    "\n",
    "def extract_representations(model, loader):\n",
    "    device = 'cuda' if torch.cuda.is_available() else 'cpu'\n",
    "    model.eval()\n",
    "    model.to(device)\n",
    "    representations = []\n",
    "\n",
    "    for batch in loader:\n",
    "        for im in batch:\n",
    "            x = im.to(device)\n",
    "            x = x.unsqueeze(0)\n",
    "            rep = model(x)\n",
    "            rep = rep.detach().to('cpu').numpy()\n",
    "            representations.append(rep)\n",
    "\n",
    "    return np.concatenate(representations)\n",
    "\n",
    "def predict(base_embeddings_df, test_loader, model):\n",
    "    test_embeds = extract_representations(model, test_loader)\n",
    "    \n",
    "    preds = []\n",
    "    for query_embeds in tqdm(test_embeds, desc=\"Similarity - match finding\"):\n",
    "        tmp = find_matches(query_embeds, \n",
    "                           base_embeddings_df[\"representation\"].values, \n",
    "                           base_embeddings_df[\"hotel_id\"].values)\n",
    "        preds.extend([tmp])\n",
    "        \n",
    "    return preds"
   ]
  },
  {
   "cell_type": "code",
   "execution_count": 28,
   "metadata": {},
   "outputs": [
    {
     "data": {
      "text/html": [
       "<div>\n",
       "<style scoped>\n",
       "    .dataframe tbody tr th:only-of-type {\n",
       "        vertical-align: middle;\n",
       "    }\n",
       "\n",
       "    .dataframe tbody tr th {\n",
       "        vertical-align: top;\n",
       "    }\n",
       "\n",
       "    .dataframe thead th {\n",
       "        text-align: right;\n",
       "    }\n",
       "</style>\n",
       "<table border=\"1\" class=\"dataframe\">\n",
       "  <thead>\n",
       "    <tr style=\"text-align: right;\">\n",
       "      <th></th>\n",
       "      <th>image_id</th>\n",
       "      <th>hotel_id</th>\n",
       "      <th>representation</th>\n",
       "    </tr>\n",
       "  </thead>\n",
       "  <tbody>\n",
       "    <tr>\n",
       "      <th>0</th>\n",
       "      <td>000003767.jpg</td>\n",
       "      <td>100055</td>\n",
       "      <td>[-0.23942466, -0.20735869, -0.22223592, -0.208...</td>\n",
       "    </tr>\n",
       "    <tr>\n",
       "      <th>1</th>\n",
       "      <td>000003768.jpg</td>\n",
       "      <td>100055</td>\n",
       "      <td>[-0.23135966, -0.19363037, -0.20756839, -0.190...</td>\n",
       "    </tr>\n",
       "    <tr>\n",
       "      <th>2</th>\n",
       "      <td>000019601.jpg</td>\n",
       "      <td>10010</td>\n",
       "      <td>[-0.22385257, -0.19876081, -0.21029243, -0.202...</td>\n",
       "    </tr>\n",
       "    <tr>\n",
       "      <th>3</th>\n",
       "      <td>000019602.jpg</td>\n",
       "      <td>10010</td>\n",
       "      <td>[-0.21756901, -0.19270661, -0.202687, -0.19265...</td>\n",
       "    </tr>\n",
       "    <tr>\n",
       "      <th>4</th>\n",
       "      <td>000019605.jpg</td>\n",
       "      <td>10010</td>\n",
       "      <td>[-0.23554295, -0.2028898, -0.21720469, -0.2073...</td>\n",
       "    </tr>\n",
       "  </tbody>\n",
       "</table>\n",
       "</div>"
      ],
      "text/plain": [
       "        image_id  hotel_id                                     representation\n",
       "0  000003767.jpg    100055  [-0.23942466, -0.20735869, -0.22223592, -0.208...\n",
       "1  000003768.jpg    100055  [-0.23135966, -0.19363037, -0.20756839, -0.190...\n",
       "2  000019601.jpg     10010  [-0.22385257, -0.19876081, -0.21029243, -0.202...\n",
       "3  000019602.jpg     10010  [-0.21756901, -0.19270661, -0.202687, -0.19265...\n",
       "4  000019605.jpg     10010  [-0.23554295, -0.2028898, -0.21720469, -0.2073..."
      ]
     },
     "execution_count": 28,
     "metadata": {},
     "output_type": "execute_result"
    }
   ],
   "source": [
    "base_embeddings = pd.read_pickle(os.path.join(dataset_path, 'train_image-embeddings.pkl'))\n",
    "\n",
    "base_embeddings.head()"
   ]
  },
  {
   "cell_type": "code",
   "execution_count": 29,
   "metadata": {},
   "outputs": [],
   "source": [
    "hotel_test = HotelDataset(df_test, val_transform, test_path, train_val=False)\n",
    "hotel_test_loader = DataLoader(hotel_test, batch_size=64, num_workers=8)"
   ]
  },
  {
   "cell_type": "code",
   "execution_count": 30,
   "metadata": {},
   "outputs": [
    {
     "name": "stderr",
     "output_type": "stream",
     "text": [
      "Similarity - match finding: 100%|██████████| 8942/8942 [46:35<00:00,  3.20it/s]   \n"
     ]
    }
   ],
   "source": [
    "preds = predict(base_embeddings, hotel_test_loader, siamese_hotel_task)\n"
   ]
  },
  {
   "cell_type": "code",
   "execution_count": 31,
   "metadata": {},
   "outputs": [
    {
     "data": {
      "text/html": [
       "<div>\n",
       "<style scoped>\n",
       "    .dataframe tbody tr th:only-of-type {\n",
       "        vertical-align: middle;\n",
       "    }\n",
       "\n",
       "    .dataframe tbody tr th {\n",
       "        vertical-align: top;\n",
       "    }\n",
       "\n",
       "    .dataframe thead th {\n",
       "        text-align: right;\n",
       "    }\n",
       "</style>\n",
       "<table border=\"1\" class=\"dataframe\">\n",
       "  <thead>\n",
       "    <tr style=\"text-align: right;\">\n",
       "      <th></th>\n",
       "      <th>image_id</th>\n",
       "      <th>hotel_id</th>\n",
       "    </tr>\n",
       "  </thead>\n",
       "  <tbody>\n",
       "    <tr>\n",
       "      <th>0</th>\n",
       "      <td>0.jpg</td>\n",
       "      <td>12016 309982 300431 93037 310252</td>\n",
       "    </tr>\n",
       "    <tr>\n",
       "      <th>1</th>\n",
       "      <td>1.jpg</td>\n",
       "      <td>12016 309982 1201 80365 87937</td>\n",
       "    </tr>\n",
       "    <tr>\n",
       "      <th>2</th>\n",
       "      <td>10.jpg</td>\n",
       "      <td>12016 309982 1201 80365 87937</td>\n",
       "    </tr>\n",
       "    <tr>\n",
       "      <th>3</th>\n",
       "      <td>100.jpg</td>\n",
       "      <td>12016 309982 1201 80365 87937</td>\n",
       "    </tr>\n",
       "    <tr>\n",
       "      <th>4</th>\n",
       "      <td>1000.jpg</td>\n",
       "      <td>12016 309982 1201 80365 87937</td>\n",
       "    </tr>\n",
       "  </tbody>\n",
       "</table>\n",
       "</div>"
      ],
      "text/plain": [
       "   image_id                          hotel_id\n",
       "0     0.jpg  12016 309982 300431 93037 310252\n",
       "1     1.jpg     12016 309982 1201 80365 87937\n",
       "2    10.jpg     12016 309982 1201 80365 87937\n",
       "3   100.jpg     12016 309982 1201 80365 87937\n",
       "4  1000.jpg     12016 309982 1201 80365 87937"
      ]
     },
     "execution_count": 31,
     "metadata": {},
     "output_type": "execute_result"
    }
   ],
   "source": [
    "df_test[\"hotel_id\"] = [str(list(l)).strip(\"[]\").replace(\",\", \"\") for l in preds]\n",
    "\n",
    "df_test.head()"
   ]
  },
  {
   "cell_type": "code",
   "execution_count": 32,
   "metadata": {},
   "outputs": [],
   "source": [
    "df_test.to_csv(os.path.join(dataset_path, 'preds.csv'))\n"
   ]
  },
  {
   "cell_type": "code",
   "execution_count": null,
   "metadata": {},
   "outputs": [],
   "source": [
    "from sklearn.metrics import euclidean_distances\n",
    "from tqdm import tqdm\n",
    "\n",
    "def find_matches(query, base_embeds, base_targets, n_matches=5):\n",
    "    distance_df = pd.DataFrame(index=np.arange(len(base_targets)), data={\"hotel_id\": base_targets})\n",
    "    # calculate euclidean distance of query embeds to all base embeds\n",
    "    distance_df[\"distance\"] = euclidean_distances([query], list(base_embeds))[0]\n",
    "    # sort by distance and hotel_id\n",
    "    distance_df = distance_df.sort_values(by=[\"distance\", \"hotel_id\"], ascending=False).reset_index(drop=True)\n",
    "    # return first 5 different hotel_id codes\n",
    "    return distance_df[\"hotel_id\"].unique()[:n_matches]\n",
    "\n",
    "def extract_image_representation(model, loader):\n",
    "    device = 'cuda' if torch.cuda.is_available() else 'cpu'\n",
    "    model.eval()\n",
    "    model.to(device)\n",
    "\n",
    "    x = im.to(device)\n",
    "    x = x.unsqueeze(0)\n",
    "    rep = model(x)\n",
    "    rep = rep.detach().to('cpu').numpy()\n",
    "\n",
    "    return rep\n",
    "\n",
    "def predict_image(base_embeddings_df, image, model):\n",
    "    image_embeds = extract_representations(model, test_loader)\n",
    "    \n",
    "    preds = []\n",
    "    tmp = find_matches(image_embeds, \n",
    "                        base_embeddings_df[\"representation\"].values, \n",
    "                        base_embeddings_df[\"hotel_id\"].values)\n",
    "    preds.extend([tmp])\n",
    "        \n",
    "    print(preds)"
   ]
  },
  {
   "cell_type": "code",
   "execution_count": null,
   "metadata": {},
   "outputs": [],
   "source": [
    "#im = os.path.join(test_path, 'abc.jpg')\n",
    "im = os.path.join('/run/media/michele/Archivio/DL_project/hotel-id-to-combat-human-trafficking-2022-fgvc9/train_images/2093/000023452.jpg')\n",
    "\n",
    "predict_image(model, im)"
   ]
  }
 ],
 "metadata": {
  "kernelspec": {
   "display_name": "Python 3 (ipykernel)",
   "language": "python",
   "name": "python3"
  },
  "language_info": {
   "codemirror_mode": {
    "name": "ipython",
    "version": 3
   },
   "file_extension": ".py",
   "mimetype": "text/x-python",
   "name": "python",
   "nbconvert_exporter": "python",
   "pygments_lexer": "ipython3",
   "version": "3.10.8"
  },
  "vscode": {
   "interpreter": {
    "hash": "e7370f93d1d0cde622a1f8e1c04877d8463912d04d973331ad4851f04de6915a"
   }
  }
 },
 "nbformat": 4,
 "nbformat_minor": 4
}
